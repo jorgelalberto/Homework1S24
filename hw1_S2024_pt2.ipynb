{
 "cells": [
  {
   "cell_type": "markdown",
   "metadata": {},
   "source": [
    "# Homework 1 Part 2\n",
    "\n",
    "\n",
    "This is an individual assignment."
   ]
  },
  {
   "cell_type": "markdown",
   "metadata": {},
   "source": [
    "## Description\n",
    "\n",
    "Create or edit this Jupyter Notebook to answer the questions below. Use simulations to answer these questions. An analytical solution can be useful to check if your simulation is correct but analytical solutions alone will not be accepted as a solution to a problem."
   ]
  },
  {
   "cell_type": "code",
   "execution_count": 209,
   "metadata": {},
   "outputs": [],
   "source": [
    "import random as rand\n",
    "import math"
   ]
  },
  {
   "cell_type": "markdown",
   "metadata": {},
   "source": [
    "## Problem 1\n",
    "\n",
    "Consider repeatedly rolling a fair 4-sided die.\n",
    "\n",
    "1. Create a simulation to compute the probability that the top face will be 4 at least once on four rolls of the die?\n",
    "2. Create a simulation to compute the probability that the top face will be 4 at least once on 20 rolls of the die?\n",
    "3. Create a simulation to compute how many rolls of the die would you have to do to be 90% confident that you would see at least one 4?\n",
    "4. Using the formula you have computed in problem 2 part 4, make a Python function that takes in the target value $p$ and outputs the required number of rolls of an integer. \n",
    "    1. Find the values for $p=0.95$ and $p=0.99$. \n",
    "    2. Use your simulation to verify that the number of rolls you specified is sufficient to achieve $p\\geq 0.95$."
   ]
  },
  {
   "cell_type": "markdown",
   "metadata": {},
   "source": [
    "#### 1.1"
   ]
  },
  {
   "cell_type": "code",
   "execution_count": 210,
   "metadata": {},
   "outputs": [
    {
     "name": "stdout",
     "output_type": "stream",
     "text": [
      "Probability of getting at least one roll as 4 when rolling a fair 4-sided die four times = 0.676\n",
      "True probability is = 0.68359375\n"
     ]
    }
   ],
   "source": [
    "num_sims=10**3\n",
    "num_rolls = 4\n",
    "target_die = 4\n",
    "face_freq = {}\n",
    "for sim in range(num_sims):\n",
    "    for roll in range(num_rolls):\n",
    "        roll = rand.choice(range(1,5))\n",
    "        if roll == target_die:\n",
    "            freq = face_freq.get(roll, 0) + 1\n",
    "            face_freq[roll] = freq\n",
    "            break\n",
    "print(\"Probability of getting at least one roll as 4 when rolling a fair 4-sided die four times =\", face_freq[4]/num_sims)\n",
    "print(\"True probability is =\", 1-(3/4)**4)"
   ]
  },
  {
   "cell_type": "markdown",
   "metadata": {},
   "source": [
    "#### 1.2"
   ]
  },
  {
   "cell_type": "code",
   "execution_count": 211,
   "metadata": {},
   "outputs": [
    {
     "name": "stdout",
     "output_type": "stream",
     "text": [
      "Probability of getting at least one roll as 4 when rolling a fair 4-sided die four times = 0.996\n",
      "True probability is = 0.996828788061066\n"
     ]
    }
   ],
   "source": [
    "num_sims=10**3\n",
    "num_rolls = 20\n",
    "target_die = 4\n",
    "face_freq = {}\n",
    "\n",
    "for sim in range(num_sims):\n",
    "    for roll in range(num_rolls):\n",
    "        roll = rand.choice(range(1,5))\n",
    "        if roll == target_die:\n",
    "            freq = face_freq.get(roll, 0) + 1\n",
    "            face_freq[roll] = freq\n",
    "            break\n",
    "print(\"Probability of getting at least one roll as 4 when rolling a fair 4-sided die four times =\", face_freq[4]/num_sims)\n",
    "print(\"True probability is =\", 1-(3/4)**20)"
   ]
  },
  {
   "cell_type": "markdown",
   "metadata": {},
   "source": [
    "#### 1.3"
   ]
  },
  {
   "cell_type": "code",
   "execution_count": 212,
   "metadata": {},
   "outputs": [
    {
     "name": "stdout",
     "output_type": "stream",
     "text": [
      "Estimated minimal number of rolls needed to have at least 90% confidence of seeing 4 atleast once = 10\n"
     ]
    }
   ],
   "source": [
    "num_sims = 10**3\n",
    "num_rolls = 1\n",
    "die_sides = 4\n",
    "target_die = 4\n",
    "face_freq = dict.fromkeys(range(1,die_sides+1), 0)\n",
    "\n",
    "while face_freq[4]/num_sims < .9:\n",
    "    face_freq[4] = 0\n",
    "    for sim in range(num_sims):\n",
    "        for roll in range(num_rolls):\n",
    "            roll = rand.choice(range(1,5))\n",
    "            if roll == target_die:\n",
    "                freq = face_freq.get(roll, 0) + 1\n",
    "                face_freq[roll] = freq\n",
    "                break\n",
    "    num_rolls += 1\n",
    "print(\"Estimated minimal number of rolls needed to have at least 90% confidence of seeing 4 atleast once =\", num_rolls)"
   ]
  },
  {
   "cell_type": "markdown",
   "metadata": {},
   "source": [
    "#### 1.4"
   ]
  },
  {
   "cell_type": "code",
   "execution_count": 213,
   "metadata": {},
   "outputs": [],
   "source": [
    "def minimal_rolls_for_given_percent_of_one_side_of_fair_die(die_sides, percent_in_decimal):\n",
    "    probability_of_not_selecting_die_side_on_one_roll = (die_sides-1)/die_sides\n",
    "    num_rolls = math.log(1-percent_in_decimal)/math.log(probability_of_not_selecting_die_side_on_one_roll)\n",
    "    return math.ceil(num_rolls)"
   ]
  },
  {
   "cell_type": "markdown",
   "metadata": {},
   "source": [
    "##### 1.4.1"
   ]
  },
  {
   "cell_type": "code",
   "execution_count": 214,
   "metadata": {},
   "outputs": [
    {
     "name": "stdout",
     "output_type": "stream",
     "text": [
      "Minimal number of rolls needed to have at least 95% confidence of seeing 4 atleast once = 11\n"
     ]
    }
   ],
   "source": [
    "num_rolls_95 = minimal_rolls_for_given_percent_of_one_side_of_fair_die(4, .95)\n",
    "print(\"Minimal number of rolls needed to have at least 95% confidence of seeing 4 atleast once =\", num_rolls_95)"
   ]
  },
  {
   "cell_type": "code",
   "execution_count": 215,
   "metadata": {},
   "outputs": [
    {
     "name": "stdout",
     "output_type": "stream",
     "text": [
      "Minimal number of rolls needed to have at least 99% confidence of seeing 4 atleast once = 17\n"
     ]
    }
   ],
   "source": [
    "num_rolls_99 = minimal_rolls_for_given_percent_of_one_side_of_fair_die(4, .99)\n",
    "print(\"Minimal number of rolls needed to have at least 99% confidence of seeing 4 atleast once =\", num_rolls_99)"
   ]
  },
  {
   "cell_type": "markdown",
   "metadata": {},
   "source": [
    "##### 1.4.2"
   ]
  },
  {
   "cell_type": "code",
   "execution_count": 216,
   "metadata": {},
   "outputs": [
    {
     "name": "stdout",
     "output_type": "stream",
     "text": [
      "Probability of getting at least one roll as 4 when rolling a fair 4-sided die 11 times = 0.95769\n",
      "True probability is = 0.9577648639678955\n"
     ]
    }
   ],
   "source": [
    "num_sims=10**6\n",
    "num_rolls = 20\n",
    "target_die = 4\n",
    "face_freq = {}\n",
    "\n",
    "for sim in range(num_sims):\n",
    "    for roll in range(num_rolls_95):\n",
    "        roll = rand.choice(range(1,5))\n",
    "        if roll == target_die:\n",
    "            freq = face_freq.get(roll, 0) + 1\n",
    "            face_freq[roll] = freq\n",
    "            break\n",
    "print(f\"Probability of getting at least one roll as 4 when rolling a fair 4-sided die {num_rolls_95} times = {face_freq[4]/num_sims}\")\n",
    "print(\"True probability is =\", 1-(3/4)**num_rolls_95)"
   ]
  },
  {
   "cell_type": "markdown",
   "metadata": {},
   "source": [
    "## Problem 2\n",
    "\n",
    "Create a simulation function where you will roll a fair 6-sided die twice. Use simulation to find out the probability of getting a 4 or 6 on the first toss and a 1,2,3, or 5 on the second toss. "
   ]
  },
  {
   "cell_type": "code",
   "execution_count": 217,
   "metadata": {},
   "outputs": [
    {
     "name": "stdout",
     "output_type": "stream",
     "text": [
      "Probability of getting a 4 or 6 on first roll and 1,2,3, or 5 second roll when rolling a fair 6-sided die twice = 0.231\n",
      "True probability is = 0.2222222222222222\n"
     ]
    }
   ],
   "source": [
    "num_sims=10**3\n",
    "num_rolls = 2\n",
    "target_die = 4\n",
    "face_freq = {}\n",
    "first_toss = False\n",
    "second_toss = False\n",
    "num_events = 0\n",
    "\n",
    "for sim in range(num_sims):\n",
    "    for roll in range(1, num_rolls+1):\n",
    "        die = rand.choice(range(1,7))\n",
    "        if (roll==1 and die==4) or (roll==1 and die==6):\n",
    "            first_toss = True\n",
    "        elif (roll==2 and die==1) or (roll==2 and die==2) or (roll==2 and die==3) or (roll==2 and die==5):\n",
    "            second_toss = True\n",
    "        else:\n",
    "            break\n",
    "    if first_toss and second_toss:\n",
    "        num_events += 1\n",
    "    first_toss = False\n",
    "    second_toss = False\n",
    "\n",
    "print(\"Probability of getting a 4 or 6 on first roll and 1,2,3, or 5 second roll when rolling a fair 6-sided die twice =\", num_events/num_sims)\n",
    "print(\"True probability is =\", (2/6)*(4/6))"
   ]
  },
  {
   "cell_type": "markdown",
   "metadata": {},
   "source": [
    "## Problem 3\n",
    "\n",
    "Suppose that you have a bag with 3 coins. One of them is a fair coin, but the others are biased trick coins. When flipped, the three coins come up heads with probability $\\frac{1}{2}$, $\\frac{1}{4}$, and $\\frac{1}{6}$, respectively.\n",
    "\n",
    "Consider the experiment where you pick one coin at random and flip it three times. Let $H_i$ be the event that the coin comes up heads on flip $i$. What is the probability of the outcome $H_1\\cap H_2\\cap \\overline{H_3}$?\n",
    "\n",
    "With small modification in your code, find out the probability of the outcome $H_1\\cap \\overline{H_2} \\cap \\overline{H_3}$.\n",
    "\n",
    "Use simulation to find out the probability."
   ]
  },
  {
   "cell_type": "code",
   "execution_count": 218,
   "metadata": {},
   "outputs": [],
   "source": [
    "def triple_flip(results, true_prob, num_sims=10**6):\n",
    "    coins = ['fair', 'trick-coin-1', 'trick-coin-2']\n",
    "    cnt = 0\n",
    "    for i in range(num_sims):\n",
    "        coin = rand.choice(coins)\n",
    "        S1 = ['H1','T1']\n",
    "        S2 = ['H2','T2', 'T2', 'T2']\n",
    "        S3 = ['H3','T3', 'T3', 'T3', 'T3', 'T3']\n",
    "        S = S1 + S2 + S3\n",
    "        vals = rand.choices(S, k=3)\n",
    "        case_1 = results[0] in vals\n",
    "        case_2 = results[1] in vals\n",
    "        case_3 = results[2] in vals\n",
    "        if case_1 and case_2 and case_3:\n",
    "            cnt += 1\n",
    "    print(\"Relative frequency of observing is\", cnt/num_sims)\n",
    "    print(\"Probability of observing is\", true_prob)"
   ]
  },
  {
   "cell_type": "code",
   "execution_count": 219,
   "metadata": {},
   "outputs": [
    {
     "name": "stdout",
     "output_type": "stream",
     "text": [
      "Relative frequency of observing is 0.017656\n",
      "Probability of observing is 0.0174\n"
     ]
    }
   ],
   "source": [
    "triple_flip([\"H1\",\"H2\",\"T3\"], .0174)"
   ]
  },
  {
   "cell_type": "code",
   "execution_count": 220,
   "metadata": {},
   "outputs": [
    {
     "name": "stdout",
     "output_type": "stream",
     "text": [
      "Relative frequency of observing is 0.051949\n",
      "Probability of observing is 0.0521\n"
     ]
    }
   ],
   "source": [
    "triple_flip([\"H1\",\"T2\",\"T3\"], .0521)"
   ]
  },
  {
   "cell_type": "markdown",
   "metadata": {},
   "source": [
    "# Submit Your Solutions\n",
    "\n",
    "Confirm that you've successfully completed the assignment.\n",
    "\n",
    "Along with the Notebook, include a PDF of the notebook with your solutions.\n",
    "\n",
    "```add``` and ```commit``` the final version of your work, and ```push``` your PDF file to your GitHub repository.\n",
    "\n",
    "Submit the URL of your GitHub Repository as your assignment submission on Canvas."
   ]
  }
 ],
 "metadata": {
  "kernelspec": {
   "display_name": "Python 3 (ipykernel)",
   "language": "python",
   "name": "python3"
  },
  "language_info": {
   "codemirror_mode": {
    "name": "ipython",
    "version": 3
   },
   "file_extension": ".py",
   "mimetype": "text/x-python",
   "name": "python",
   "nbconvert_exporter": "python",
   "pygments_lexer": "ipython3",
   "version": "3.11.7"
  },
  "latex_envs": {
   "LaTeX_envs_menu_present": true,
   "autoclose": false,
   "autocomplete": true,
   "bibliofile": "biblio.bib",
   "cite_by": "apalike",
   "current_citInitial": 1,
   "eqLabelWithNumbers": true,
   "eqNumInitial": 1,
   "hotkeys": {
    "equation": "Ctrl-E",
    "itemize": "Ctrl-I"
   },
   "labels_anchors": false,
   "latex_user_defs": false,
   "report_style_numbering": false,
   "user_envs_cfg": false
  },
  "varInspector": {
   "cols": {
    "lenName": 16,
    "lenType": 16,
    "lenVar": 40
   },
   "kernels_config": {
    "python": {
     "delete_cmd_postfix": "",
     "delete_cmd_prefix": "del ",
     "library": "var_list.py",
     "varRefreshCmd": "print(var_dic_list())"
    },
    "r": {
     "delete_cmd_postfix": ") ",
     "delete_cmd_prefix": "rm(",
     "library": "var_list.r",
     "varRefreshCmd": "cat(var_dic_list()) "
    }
   },
   "types_to_exclude": [
    "module",
    "function",
    "builtin_function_or_method",
    "instance",
    "_Feature"
   ],
   "window_display": false
  }
 },
 "nbformat": 4,
 "nbformat_minor": 4
}
